{
 "cells": [
  {
   "cell_type": "markdown",
   "id": "9b6c3536",
   "metadata": {},
   "source": [
    "# Purpose\n",
    "This cadCAD model is a reimplementation of this vanilla python vault model:\n",
    "https://github.com/marek-new/toy_vault_model\n",
    "(more documentation there including partial math spec)"
   ]
  },
  {
   "cell_type": "markdown",
   "id": "f7e45bda",
   "metadata": {},
   "source": [
    "# Imports and dependencies"
   ]
  },
  {
   "cell_type": "code",
   "execution_count": 1,
   "id": "defcbc2a",
   "metadata": {},
   "outputs": [],
   "source": [
    "# cadCAD standard dependencies\n",
    "\n",
    "# cadCAD global simulation configuration list\n",
    "from cadCAD import configs\n",
    "\n",
    "# cadCAD configuration modules\n",
    "from cadCAD.configuration.utils import config_sim\n",
    "from cadCAD.configuration import Experiment\n",
    "\n",
    "# cadCAD simulation engine modules\n",
    "from cadCAD.engine import ExecutionMode, ExecutionContext\n",
    "from cadCAD.engine import Executor\n",
    "\n",
    "#other imports\n",
    "from random import random\n",
    "from random import randint\n",
    "# For analytics\n",
    "import pandas as pd\n",
    "# For visualization\n",
    "import plotly.express as px\n"
   ]
  },
  {
   "cell_type": "markdown",
   "id": "590871c3",
   "metadata": {},
   "source": [
    "# Define State Variables\n",
    "information we need to track throughout the simulation"
   ]
  },
  {
   "cell_type": "code",
   "execution_count": 2,
   "id": "c9cb0dbc",
   "metadata": {},
   "outputs": [
    {
     "data": {
      "text/plain": [
       "{'vault_balance': [0.0],\n",
       " 'staker_balances': [3.0, 5.0, 8.0, 7.5],\n",
       " 'staker_deposits': [0.0, 0.0, 0.0, 0.0],\n",
       " 'staker_rewards': [0.0, 0.0, 0.0, 0.0],\n",
       " 'expected_rewards': [0.5, 2.0, 1.5, 1.0]}"
      ]
     },
     "execution_count": 2,
     "metadata": {},
     "output_type": "execute_result"
    }
   ],
   "source": [
    "#these are the variables we care about e.g. \"maximize TVL / rewardRate\"\n",
    "initial_state = {\n",
    "    # vault balance aka TVL\n",
    "    'vault_balance': [0.0],\n",
    "    #staker balances\n",
    "    'staker_balances': [3.0, 5.0, 8.0, 7.5],\n",
    "    #deposits in the vault\n",
    "    'staker_deposits': [0.0, 0.0, 0.0, 0.0],\n",
    "    #accumulated rewards in the vault\n",
    "    'staker_rewards': [0.0, 0.0, 0.0, 0.0],\n",
    "    #staker expectations of yield\n",
    "    'expected_rewards': [0.5, 2.0, 1.5, 1.0],\n",
    "}\n",
    "initial_state\n"
   ]
  },
  {
   "cell_type": "markdown",
   "id": "3437964c",
   "metadata": {},
   "source": [
    "# Define System Parameters\n",
    "these parameters correspond to scenarios we wish to investigate e.g. different assumptions\n",
    "if we wanted to explore the effect of a bunch of different values for rewardRate we would put them in a list here"
   ]
  },
  {
   "cell_type": "code",
   "execution_count": 3,
   "id": "8f91002d",
   "metadata": {
    "scrolled": true
   },
   "outputs": [
    {
     "data": {
      "text/plain": [
       "{'rewardRate': [7.0]}"
      ]
     },
     "execution_count": 3,
     "metadata": {},
     "output_type": "execute_result"
    }
   ],
   "source": [
    "system_params = {\n",
    "    'rewardRate': [7.0],\n",
    "    # if instead we wanted to do an A/B test of rewardRate=7.0 vs. rewardRate=9.0 we would do the follwing:\n",
    "    # 'rewardRate': [7.0, 9.0]\n",
    "}\n",
    "\n",
    "system_params"
   ]
  },
  {
   "cell_type": "markdown",
   "id": "e113482b",
   "metadata": {},
   "source": [
    "# Helper functions"
   ]
  },
  {
   "cell_type": "code",
   "execution_count": 4,
   "id": "35c0f197",
   "metadata": {},
   "outputs": [],
   "source": [
    "def rewardShare(share,total,reward):\n",
    "    if total == 0.0:\n",
    "        return 0.0\n",
    "    return reward*share/total"
   ]
  },
  {
   "cell_type": "markdown",
   "id": "32c0999b",
   "metadata": {},
   "source": [
    "# Policy Functions - make decisions\n",
    "but, updating the state will happen elsewhere!\n",
    "\n",
    "cadCAD has made a design decision that forces the modeler to separate decisions and state updates (this is generally a good pattern)\n",
    "\n",
    "Policy funcitons have a very specific and regular format in that they accept\n",
    "params, the current substep, state_history, previous_state"
   ]
  },
  {
   "cell_type": "code",
   "execution_count": 5,
   "id": "c1c07efc",
   "metadata": {},
   "outputs": [],
   "source": [
    "#policy decision for the staker\n",
    "def p_staker(params, substep, state_history, previous_state):\n",
    "    #get the information needed to make decisions\n",
    "    balances = previous_state['staker_balances']\n",
    "    deposits = previous_state['staker_deposits']\n",
    "    rewards = previous_state['staker_rewards']\n",
    "    TVL = previous_state['vault_balance']\n",
    "    expectations = previous_state['expected_rewards']\n",
    "    RR = params['rewardRate']\n",
    "    #the pattern is to compose state update vectors for all the Stakers\n",
    "    balances_change = [0.0, 0.0, 0.0, 0.0]\n",
    "    deposits_change = [0.0, 0.0, 0.0, 0.0]\n",
    "    rewards_change = [0.0, 0.0, 0.0, 0.0]\n",
    "    \n",
    "    #make decisions for each staker\n",
    "    for i in range(0,len(balances)):\n",
    "        if balances[i] >= 1.0 and random() < 0.5: #deposit\n",
    "            deposits_change[i] = randint(1, int(balances[i]))\n",
    "            balances_change[i] = -deposits_change[i]\n",
    "        elif(rewardShare(deposits[i],TVL,RR) < expectations[i]): #claim and withdraw\n",
    "            #claim\n",
    "            balances_change[i] = rewards[i]\n",
    "            rewards_change[i] = -rewards[i]\n",
    "            #withdraw all\n",
    "            balances_change[i] = balances_change[i] + deposits[i]\n",
    "            deposits_change[i] = -deposits[i]\n",
    "        elif random() < 0.5 and rewards[i] > 0 and expectations[i] < rewards[i]:\n",
    "            #claim\n",
    "            balances_change[i] = rewards[i]\n",
    "            rewards_change[i] = -rewards[i]\n",
    "    #the policy functions return one or more state-change vectors that will be used to update state later\n",
    "    return {'balances_change': balances_change,\n",
    "            'deposits_change': deposits_change,\n",
    "            'rewards_change': rewards_change,\n",
    "            } \n"
   ]
  },
  {
   "cell_type": "code",
   "execution_count": 6,
   "id": "398a81c9",
   "metadata": {},
   "outputs": [],
   "source": [
    "def p_vault(params, substep, state_history, previous_state):\n",
    "    deposits = previous_state['staker_deposits']\n",
    "    TVL = previous_state['vault_balance']\n",
    "    \n",
    "    RR = params['rewardRate']\n",
    "\n",
    "    rewards_change = [0.0, 0.0, 0.0, 0.0]\n",
    "    \n",
    "    for i in range(0,len(deposits)):\n",
    "        rewards_change[i] = rewardShare(deposits[i],TVL,RR)\n",
    "\n",
    "        \n",
    "    return {'rewards_change': rewards_change}"
   ]
  },
  {
   "cell_type": "markdown",
   "id": "93e69f25",
   "metadata": {},
   "source": [
    "# State Update Functions\n",
    "these define how our model state changes over each time step (each iteration through the model)\n",
    "the state changes were decided upon by the policy functions above\n",
    "* params is a dictionary containing system params declared above\n",
    "* substep is an integer corresponding to the partial state update block being executed\n",
    "* state_history is a list containing all states in all previous timesteps\n",
    "* previous_state is a dictionary that contains the state in the previous timestep or substep\n",
    "* policy_input is a dictionary containing changes resulting from policy functions (above)"
   ]
  },
  {
   "cell_type": "code",
   "execution_count": 7,
   "id": "4dbbd7a9",
   "metadata": {},
   "outputs": [],
   "source": [
    "def s_vault_balance(params,\n",
    "                              substep,\n",
    "                              state_history,\n",
    "                              previous_state,\n",
    "                              policy_input):\n",
    "    \n",
    "    print(\"s_vault_balance policy input:\", policy_input)\n",
    "    variable = 'vault_balance'\n",
    "    value = previous_state['vault_balance']\n",
    "\n",
    "    deposits_change = policy_input['deposits_change']\n",
    "    for i in range(0,len(deposits_change)):\n",
    "        value = value + deposits_change[i]\n",
    "    return (variable, value)\n"
   ]
  },
  {
   "cell_type": "code",
   "execution_count": 8,
   "id": "ce34ba1b",
   "metadata": {},
   "outputs": [],
   "source": [
    "def s_staker_balances(params,\n",
    "                              substep,\n",
    "                              state_history,\n",
    "                              previous_state,\n",
    "                              policy_input):\n",
    "    variable = 'staker_balances'\n",
    "    value = previous_state['staker_balances']\n",
    "    print(\"s_staker_balances valiue: \", value)\n",
    "    balances_change = policy_input['balances_change']\n",
    "    for i in range(0,len(balances_change)):\n",
    "        value[i] = value[i] + balances_change[i]\n",
    "\n",
    "    return (variable, value)\n",
    "\n",
    "    "
   ]
  },
  {
   "cell_type": "code",
   "execution_count": 9,
   "id": "e2c3d83e",
   "metadata": {},
   "outputs": [],
   "source": [
    "def s_staker_deposits(params,\n",
    "                              substep,\n",
    "                              state_history,\n",
    "                              previous_state,\n",
    "                              policy_input):\n",
    "    variable = 'staker_deposits'\n",
    "    value = previous_state['staker_deposits']\n",
    "    deposits_change = policy_input['deposits_change']\n",
    "    \n",
    "    for i in range(0,len(deposits_change)):\n",
    "        value[i] = value[i] + deposits_change[i]\n",
    "\n",
    "    return (variable, value)\n"
   ]
  },
  {
   "cell_type": "code",
   "execution_count": 10,
   "id": "afae918a",
   "metadata": {},
   "outputs": [],
   "source": [
    "def s_staker_rewards(params,\n",
    "                              substep,\n",
    "                              state_history,\n",
    "                              previous_state,\n",
    "                              policy_input):\n",
    "    variable = 'staker_rewards'\n",
    "    value = previous_state['staker_rewards']\n",
    "    rewards_change = policy_input['rewards_change']\n",
    "    \n",
    "    for i in range(0,len(rewards_change)):\n",
    "        value[i] = value[i] + rewards_change[i]\n",
    "\n",
    "    return (variable, value)"
   ]
  },
  {
   "cell_type": "markdown",
   "id": "e438d31d",
   "metadata": {},
   "source": [
    "# PSUBs - Partial State Update Blocks\n",
    "define the order of policy functions and state update functions"
   ]
  },
  {
   "cell_type": "code",
   "execution_count": 11,
   "id": "48979f81",
   "metadata": {},
   "outputs": [],
   "source": [
    "partial_state_update_blocks = [\n",
    "    {# corresponds to substep 1\n",
    "        'policies': { # policy functions in this block are executed in parallel\n",
    "            'policy_staker': p_staker,\n",
    "        },\n",
    "        'variables': { # state update functions that use the above policy (executed in parallel)\n",
    "            'vault_balance': s_vault_balance,\n",
    "            'staker_balances': s_staker_balances,\n",
    "            'staker_deposits': s_staker_deposits,\n",
    "            'staker_rewards': s_staker_rewards\n",
    "        }\n",
    "    },\n",
    "    {# corresponds to substep 2 - executes sequentially after substep 1\n",
    "        'policies': { #policy functions in this block are executed in parallel \n",
    "            'policy_vault':p_vault,\n",
    "        },\n",
    "        'variables': {# state update functions that use the above policy (executed in parallel)\n",
    "            'staker_rewards': s_staker_rewards\n",
    "        }\n",
    "    }\n",
    "    \n",
    "]"
   ]
  },
  {
   "cell_type": "markdown",
   "id": "6271f83d",
   "metadata": {},
   "source": [
    "# Simulation Configuration"
   ]
  },
  {
   "cell_type": "code",
   "execution_count": 12,
   "id": "14fcbdea",
   "metadata": {},
   "outputs": [],
   "source": [
    "sim_config = config_sim({\n",
    "    \"N\": 1, # the number of times we'll run the simulation (\"Monte Carlo runs\")\n",
    "    \"T\": range(10), # the number of timesteps the simulation will run for\n",
    "    \"M\": system_params # the parameters of the system\n",
    "})\n"
   ]
  },
  {
   "cell_type": "code",
   "execution_count": 13,
   "id": "244aa583",
   "metadata": {},
   "outputs": [],
   "source": [
    "del configs[:] # Clear any prior configs for ``reasons``"
   ]
  },
  {
   "cell_type": "code",
   "execution_count": 14,
   "id": "055d207b",
   "metadata": {},
   "outputs": [],
   "source": [
    "experiment = Experiment()\n",
    "experiment.append_configs(\n",
    "    initial_state = initial_state,\n",
    "    partial_state_update_blocks = partial_state_update_blocks,\n",
    "    sim_configs = sim_config\n",
    ")"
   ]
  },
  {
   "cell_type": "markdown",
   "id": "5767fe80",
   "metadata": {},
   "source": [
    "# Execution"
   ]
  },
  {
   "cell_type": "code",
   "execution_count": 15,
   "id": "13f0644e",
   "metadata": {},
   "outputs": [],
   "source": [
    "exec_mode = ExecutionMode()\n",
    "exec_context = ExecutionContext()"
   ]
  },
  {
   "cell_type": "code",
   "execution_count": 16,
   "id": "ba5c22f6",
   "metadata": {},
   "outputs": [],
   "source": [
    "simulation = Executor(exec_context=exec_context, configs=experiment.configs)"
   ]
  },
  {
   "cell_type": "code",
   "execution_count": 17,
   "id": "16b9d8e9",
   "metadata": {},
   "outputs": [
    {
     "name": "stdout",
     "output_type": "stream",
     "text": [
      "\n",
      "                  ___________    ____\n",
      "  ________ __ ___/ / ____/   |  / __ \\\n",
      " / ___/ __` / __  / /   / /| | / / / /\n",
      "/ /__/ /_/ / /_/ / /___/ ___ |/ /_/ /\n",
      "\\___/\\__,_/\\__,_/\\____/_/  |_/_____/\n",
      "by cadCAD\n",
      "\n",
      "cadCAD Version: 0.4.28\n",
      "Execution Mode: local_proc\n",
      "Simulation Dimensions:\n",
      "Entire Simulation: (Models, Unique Timesteps, Params, Total Runs, Sub-States) = (1, 10, 1, 1, 5)\n",
      "     Simulation 0: (Timesteps, Params, Runs, Sub-States) = (10, 1, 1, 5)\n",
      "Execution Method: local_simulations\n",
      "Execution Mode: single_threaded\n"
     ]
    },
    {
     "ename": "TypeError",
     "evalue": "unsupported operand type(s) for /: 'float' and 'list'",
     "output_type": "error",
     "traceback": [
      "\u001b[0;31m---------------------------------------------------------------------------\u001b[0m",
      "\u001b[0;31mTypeError\u001b[0m                                 Traceback (most recent call last)",
      "Input \u001b[0;32mIn [17]\u001b[0m, in \u001b[0;36m<cell line: 1>\u001b[0;34m()\u001b[0m\n\u001b[0;32m----> 1\u001b[0m raw_result, tensor_field, sessions \u001b[38;5;241m=\u001b[39m \u001b[43msimulation\u001b[49m\u001b[38;5;241;43m.\u001b[39;49m\u001b[43mexecute\u001b[49m\u001b[43m(\u001b[49m\u001b[43m)\u001b[49m\n",
      "File \u001b[0;32m~/opt/anaconda3/lib/python3.9/site-packages/cadCAD/engine/__init__.py:152\u001b[0m, in \u001b[0;36mExecutor.execute\u001b[0;34m(self)\u001b[0m\n\u001b[1;32m    149\u001b[0m         \u001b[38;5;28mself\u001b[39m\u001b[38;5;241m.\u001b[39mexec_context, \u001b[38;5;28mself\u001b[39m\u001b[38;5;241m.\u001b[39mexec_method \u001b[38;5;241m=\u001b[39m auto_mode_switcher(config_amt)\n\u001b[1;32m    151\u001b[0m     \u001b[38;5;28mprint\u001b[39m(\u001b[38;5;124m\"\u001b[39m\u001b[38;5;124mExecution Method: \u001b[39m\u001b[38;5;124m\"\u001b[39m \u001b[38;5;241m+\u001b[39m \u001b[38;5;28mself\u001b[39m\u001b[38;5;241m.\u001b[39mexec_method\u001b[38;5;241m.\u001b[39m\u001b[38;5;18m__name__\u001b[39m)\n\u001b[0;32m--> 152\u001b[0m     simulations_results \u001b[38;5;241m=\u001b[39m \u001b[38;5;28;43mself\u001b[39;49m\u001b[38;5;241;43m.\u001b[39;49m\u001b[43mexec_method\u001b[49m\u001b[43m(\u001b[49m\n\u001b[1;32m    153\u001b[0m \u001b[43m        \u001b[49m\u001b[43msim_executors\u001b[49m\u001b[43m,\u001b[49m\u001b[43m \u001b[49m\u001b[43mvar_dict_list\u001b[49m\u001b[43m,\u001b[49m\u001b[43m \u001b[49m\u001b[43mstates_lists\u001b[49m\u001b[43m,\u001b[49m\u001b[43m \u001b[49m\u001b[43mconfigs_structs\u001b[49m\u001b[43m,\u001b[49m\u001b[43m \u001b[49m\u001b[43menv_processes_list\u001b[49m\u001b[43m,\u001b[49m\u001b[43m \u001b[49m\u001b[43mTs\u001b[49m\u001b[43m,\u001b[49m\u001b[43m \u001b[49m\u001b[43mSimIDs\u001b[49m\u001b[43m,\u001b[49m\u001b[43m \u001b[49m\u001b[43mRunIDs\u001b[49m\u001b[43m,\u001b[49m\n\u001b[1;32m    154\u001b[0m \u001b[43m        \u001b[49m\u001b[43mExpIDs\u001b[49m\u001b[43m,\u001b[49m\u001b[43m \u001b[49m\u001b[43mSubsetIDs\u001b[49m\u001b[43m,\u001b[49m\u001b[43m \u001b[49m\u001b[43mSubsetWindows\u001b[49m\u001b[43m,\u001b[49m\u001b[43m \u001b[49m\u001b[43moriginal_N\u001b[49m\n\u001b[1;32m    155\u001b[0m \u001b[43m    \u001b[49m\u001b[43m)\u001b[49m\n\u001b[1;32m    157\u001b[0m     final_result \u001b[38;5;241m=\u001b[39m get_final_results(simulations_results, partial_state_updates, eps, sessions, remote_threshold)\n\u001b[1;32m    158\u001b[0m \u001b[38;5;28;01melif\u001b[39;00m \u001b[38;5;28mself\u001b[39m\u001b[38;5;241m.\u001b[39mexec_context \u001b[38;5;241m==\u001b[39m ExecutionMode\u001b[38;5;241m.\u001b[39mdistributed:\n",
      "File \u001b[0;32m~/opt/anaconda3/lib/python3.9/site-packages/cadCAD/engine/execution.py:125\u001b[0m, in \u001b[0;36mlocal_simulations\u001b[0;34m(simulation_execs, var_dict_list, states_lists, configs_structs, env_processes_list, Ts, SimIDs, Ns, ExpIDs, SubsetIDs, SubsetWindows, configured_n)\u001b[0m\n\u001b[1;32m    123\u001b[0m \u001b[38;5;28;01mif\u001b[39;00m config_amt \u001b[38;5;241m==\u001b[39m \u001b[38;5;241m1\u001b[39m: \u001b[38;5;66;03m# and configured_n != 1\u001b[39;00m\n\u001b[1;32m    124\u001b[0m     _params \u001b[38;5;241m=\u001b[39m var_dict_list[\u001b[38;5;241m0\u001b[39m]\n\u001b[0;32m--> 125\u001b[0m     \u001b[38;5;28;01mreturn\u001b[39;00m \u001b[43msingle_proc_exec\u001b[49m\u001b[43m(\u001b[49m\n\u001b[1;32m    126\u001b[0m \u001b[43m        \u001b[49m\u001b[43msimulation_execs\u001b[49m\u001b[43m,\u001b[49m\u001b[43m \u001b[49m\u001b[43m_params\u001b[49m\u001b[43m,\u001b[49m\u001b[43m \u001b[49m\u001b[43mstates_lists\u001b[49m\u001b[43m,\u001b[49m\u001b[43m \u001b[49m\u001b[43mconfigs_structs\u001b[49m\u001b[43m,\u001b[49m\u001b[43m \u001b[49m\u001b[43menv_processes_list\u001b[49m\u001b[43m,\u001b[49m\n\u001b[1;32m    127\u001b[0m \u001b[43m        \u001b[49m\u001b[43mTs\u001b[49m\u001b[43m,\u001b[49m\u001b[43m \u001b[49m\u001b[43mSimIDs\u001b[49m\u001b[43m,\u001b[49m\u001b[43m \u001b[49m\u001b[43mNs\u001b[49m\u001b[43m,\u001b[49m\u001b[43m \u001b[49m\u001b[43mExpIDs\u001b[49m\u001b[43m,\u001b[49m\u001b[43m \u001b[49m\u001b[43mSubsetIDs\u001b[49m\u001b[43m,\u001b[49m\u001b[43m \u001b[49m\u001b[43mSubsetWindows\u001b[49m\u001b[43m,\u001b[49m\u001b[43m \u001b[49m\u001b[43mconfigured_n\u001b[49m\n\u001b[1;32m    128\u001b[0m \u001b[43m    \u001b[49m\u001b[43m)\u001b[49m\n\u001b[1;32m    129\u001b[0m \u001b[38;5;28;01melif\u001b[39;00m config_amt \u001b[38;5;241m>\u001b[39m \u001b[38;5;241m1\u001b[39m: \u001b[38;5;66;03m# and configured_n != 1\u001b[39;00m\n\u001b[1;32m    130\u001b[0m     _params \u001b[38;5;241m=\u001b[39m var_dict_list\n",
      "File \u001b[0;32m~/opt/anaconda3/lib/python3.9/site-packages/cadCAD/engine/execution.py:35\u001b[0m, in \u001b[0;36msingle_proc_exec\u001b[0;34m(simulation_execs, var_dict_list, states_lists, configs_structs, env_processes_list, Ts, SimIDs, Ns, ExpIDs, SubsetIDs, SubsetWindows, configured_n)\u001b[0m\n\u001b[1;32m     28\u001b[0m params \u001b[38;5;241m=\u001b[39m [\n\u001b[1;32m     29\u001b[0m     simulation_execs, states_lists, configs_structs, env_processes_list,\n\u001b[1;32m     30\u001b[0m     Ts, SimIDs, Ns, SubsetIDs, SubsetWindows\n\u001b[1;32m     31\u001b[0m ]\n\u001b[1;32m     32\u001b[0m simulation_exec, states_list, config, env_processes, T, sim_id, N, subset_id, subset_window \u001b[38;5;241m=\u001b[39m \u001b[38;5;28mlist\u001b[39m(\n\u001b[1;32m     33\u001b[0m     \u001b[38;5;28mmap\u001b[39m(\u001b[38;5;28;01mlambda\u001b[39;00m x: x\u001b[38;5;241m.\u001b[39mpop(), params)\n\u001b[1;32m     34\u001b[0m )\n\u001b[0;32m---> 35\u001b[0m result \u001b[38;5;241m=\u001b[39m \u001b[43msimulation_exec\u001b[49m\u001b[43m(\u001b[49m\n\u001b[1;32m     36\u001b[0m \u001b[43m    \u001b[49m\u001b[43mvar_dict_list\u001b[49m\u001b[43m,\u001b[49m\u001b[43m \u001b[49m\u001b[43mstates_list\u001b[49m\u001b[43m,\u001b[49m\u001b[43m \u001b[49m\u001b[43mconfig\u001b[49m\u001b[43m,\u001b[49m\u001b[43m \u001b[49m\u001b[43menv_processes\u001b[49m\u001b[43m,\u001b[49m\u001b[43m \u001b[49m\u001b[43mT\u001b[49m\u001b[43m,\u001b[49m\u001b[43m \u001b[49m\u001b[43msim_id\u001b[49m\u001b[43m,\u001b[49m\u001b[43m \u001b[49m\u001b[43mN\u001b[49m\u001b[43m,\u001b[49m\u001b[43m \u001b[49m\u001b[43msubset_id\u001b[49m\u001b[43m,\u001b[49m\u001b[43m \u001b[49m\u001b[43msubset_window\u001b[49m\u001b[43m,\u001b[49m\u001b[43m \u001b[49m\u001b[43mconfigured_n\u001b[49m\n\u001b[1;32m     37\u001b[0m \u001b[43m\u001b[49m\u001b[43m)\u001b[49m\n\u001b[1;32m     38\u001b[0m \u001b[38;5;28;01mreturn\u001b[39;00m flatten(result)\n",
      "File \u001b[0;32m~/opt/anaconda3/lib/python3.9/site-packages/cadCAD/engine/simulation.py:245\u001b[0m, in \u001b[0;36mExecutor.simulation\u001b[0;34m(self, sweep_dict, states_list, configs, env_processes, time_seq, simulation_id, run, subset_id, subset_window, configured_N, additional_objs)\u001b[0m\n\u001b[1;32m    240\u001b[0m     \u001b[38;5;28;01mdel\u001b[39;00m states_list_copy\n\u001b[1;32m    242\u001b[0m     \u001b[38;5;28;01mreturn\u001b[39;00m first_timestep_per_run\n\u001b[1;32m    244\u001b[0m pipe_run \u001b[38;5;241m=\u001b[39m flatten(\n\u001b[0;32m--> 245\u001b[0m     [\u001b[43mexecute_run\u001b[49m\u001b[43m(\u001b[49m\u001b[43msweep_dict\u001b[49m\u001b[43m,\u001b[49m\u001b[43m \u001b[49m\u001b[43mstates_list\u001b[49m\u001b[43m,\u001b[49m\u001b[43m \u001b[49m\u001b[43mconfigs\u001b[49m\u001b[43m,\u001b[49m\u001b[43m \u001b[49m\u001b[43menv_processes\u001b[49m\u001b[43m,\u001b[49m\u001b[43m \u001b[49m\u001b[43mtime_seq\u001b[49m\u001b[43m,\u001b[49m\u001b[43m \u001b[49m\u001b[43mrun\u001b[49m\u001b[43m)\u001b[49m]\n\u001b[1;32m    246\u001b[0m )\n\u001b[1;32m    248\u001b[0m \u001b[38;5;28;01mreturn\u001b[39;00m pipe_run\n",
      "File \u001b[0;32m~/opt/anaconda3/lib/python3.9/site-packages/cadCAD/engine/simulation.py:237\u001b[0m, in \u001b[0;36mExecutor.simulation.<locals>.execute_run\u001b[0;34m(sweep_dict, states_list, configs, env_processes, time_seq, _run)\u001b[0m\n\u001b[1;32m    231\u001b[0m         \u001b[38;5;28;01myield\u001b[39;00m d\n\u001b[1;32m    233\u001b[0m states_list_copy: List[Dict[\u001b[38;5;28mstr\u001b[39m, Any]] \u001b[38;5;241m=\u001b[39m \u001b[38;5;28mlist\u001b[39m(\n\u001b[1;32m    234\u001b[0m     generate_init_sys_metrics(\u001b[38;5;28mtuple\u001b[39m(states_list), simulation_id, subset_id, run, subset_window)\n\u001b[1;32m    235\u001b[0m )\n\u001b[0;32m--> 237\u001b[0m first_timestep_per_run: List[Dict[\u001b[38;5;28mstr\u001b[39m, Any]] \u001b[38;5;241m=\u001b[39m \u001b[38;5;28;43mself\u001b[39;49m\u001b[38;5;241;43m.\u001b[39;49m\u001b[43mrun_pipeline\u001b[49m\u001b[43m(\u001b[49m\n\u001b[1;32m    238\u001b[0m \u001b[43m    \u001b[49m\u001b[43msweep_dict\u001b[49m\u001b[43m,\u001b[49m\u001b[43m \u001b[49m\u001b[43mstates_list_copy\u001b[49m\u001b[43m,\u001b[49m\u001b[43m \u001b[49m\u001b[43mconfigs\u001b[49m\u001b[43m,\u001b[49m\u001b[43m \u001b[49m\u001b[43menv_processes\u001b[49m\u001b[43m,\u001b[49m\u001b[43m \u001b[49m\u001b[43mtime_seq\u001b[49m\u001b[43m,\u001b[49m\u001b[43m \u001b[49m\u001b[43mrun\u001b[49m\u001b[43m,\u001b[49m\u001b[43m \u001b[49m\u001b[43madditional_objs\u001b[49m\n\u001b[1;32m    239\u001b[0m \u001b[43m\u001b[49m\u001b[43m)\u001b[49m\n\u001b[1;32m    240\u001b[0m \u001b[38;5;28;01mdel\u001b[39;00m states_list_copy\n\u001b[1;32m    242\u001b[0m \u001b[38;5;28;01mreturn\u001b[39;00m first_timestep_per_run\n",
      "File \u001b[0;32m~/opt/anaconda3/lib/python3.9/site-packages/cadCAD/engine/simulation.py:199\u001b[0m, in \u001b[0;36mExecutor.run_pipeline\u001b[0;34m(self, sweep_dict, states_list, configs, env_processes, time_seq, run, additional_objs)\u001b[0m\n\u001b[1;32m    196\u001b[0m simulation_list: List[List[Dict[\u001b[38;5;28mstr\u001b[39m, Any]]] \u001b[38;5;241m=\u001b[39m [states_list]\n\u001b[1;32m    198\u001b[0m \u001b[38;5;28;01mfor\u001b[39;00m time_step \u001b[38;5;129;01min\u001b[39;00m time_seq:\n\u001b[0;32m--> 199\u001b[0m     pipe_run: List[Dict[\u001b[38;5;28mstr\u001b[39m, Any]] \u001b[38;5;241m=\u001b[39m \u001b[38;5;28;43mself\u001b[39;49m\u001b[38;5;241;43m.\u001b[39;49m\u001b[43mstate_update_pipeline\u001b[49m\u001b[43m(\u001b[49m\n\u001b[1;32m    200\u001b[0m \u001b[43m        \u001b[49m\u001b[43msweep_dict\u001b[49m\u001b[43m,\u001b[49m\u001b[43m \u001b[49m\u001b[43msimulation_list\u001b[49m\u001b[43m,\u001b[49m\u001b[43m \u001b[49m\u001b[43mconfigs\u001b[49m\u001b[43m,\u001b[49m\u001b[43m \u001b[49m\u001b[43menv_processes\u001b[49m\u001b[43m,\u001b[49m\u001b[43m \u001b[49m\u001b[43mtime_step\u001b[49m\u001b[43m,\u001b[49m\u001b[43m \u001b[49m\u001b[43mrun\u001b[49m\u001b[43m,\u001b[49m\u001b[43m \u001b[49m\u001b[43madditional_objs\u001b[49m\n\u001b[1;32m    201\u001b[0m \u001b[43m    \u001b[49m\u001b[43m)\u001b[49m\n\u001b[1;32m    202\u001b[0m     _, \u001b[38;5;241m*\u001b[39mpipe_run \u001b[38;5;241m=\u001b[39m pipe_run\n\u001b[1;32m    203\u001b[0m     simulation_list\u001b[38;5;241m.\u001b[39mappend(pipe_run)\n",
      "File \u001b[0;32m~/opt/anaconda3/lib/python3.9/site-packages/cadCAD/engine/simulation.py:174\u001b[0m, in \u001b[0;36mExecutor.state_update_pipeline\u001b[0;34m(self, sweep_dict, simulation_list, configs, env_processes, time_step, run, additional_objs)\u001b[0m\n\u001b[1;32m    172\u001b[0m sub_step \u001b[38;5;241m+\u001b[39m\u001b[38;5;241m=\u001b[39m \u001b[38;5;241m1\u001b[39m\n\u001b[1;32m    173\u001b[0m \u001b[38;5;28;01mfor\u001b[39;00m [s_conf, p_conf] \u001b[38;5;129;01min\u001b[39;00m configs:\n\u001b[0;32m--> 174\u001b[0m     states_list: List[Dict[\u001b[38;5;28mstr\u001b[39m, Any]] \u001b[38;5;241m=\u001b[39m \u001b[38;5;28;43mself\u001b[39;49m\u001b[38;5;241;43m.\u001b[39;49m\u001b[43mpartial_state_update\u001b[49m\u001b[43m(\u001b[49m\n\u001b[1;32m    175\u001b[0m \u001b[43m        \u001b[49m\u001b[43msweep_dict\u001b[49m\u001b[43m,\u001b[49m\u001b[43m \u001b[49m\u001b[43msub_step\u001b[49m\u001b[43m,\u001b[49m\u001b[43m \u001b[49m\u001b[43mstates_list\u001b[49m\u001b[43m,\u001b[49m\u001b[43m \u001b[49m\u001b[43msimulation_list\u001b[49m\u001b[43m,\u001b[49m\u001b[43m \u001b[49m\u001b[43ms_conf\u001b[49m\u001b[43m,\u001b[49m\u001b[43m \u001b[49m\u001b[43mp_conf\u001b[49m\u001b[43m,\u001b[49m\u001b[43m \u001b[49m\u001b[43menv_processes\u001b[49m\u001b[43m,\u001b[49m\u001b[43m \u001b[49m\u001b[43mtime_step\u001b[49m\u001b[43m,\u001b[49m\u001b[43m \u001b[49m\u001b[43mrun\u001b[49m\u001b[43m,\u001b[49m\n\u001b[1;32m    176\u001b[0m \u001b[43m        \u001b[49m\u001b[43madditional_objs\u001b[49m\n\u001b[1;32m    177\u001b[0m \u001b[43m    \u001b[49m\u001b[43m)\u001b[49m\n\u001b[1;32m    178\u001b[0m     sub_step \u001b[38;5;241m+\u001b[39m\u001b[38;5;241m=\u001b[39m \u001b[38;5;241m1\u001b[39m\n\u001b[1;32m    180\u001b[0m time_step \u001b[38;5;241m+\u001b[39m\u001b[38;5;241m=\u001b[39m \u001b[38;5;241m1\u001b[39m\n",
      "File \u001b[0;32m~/opt/anaconda3/lib/python3.9/site-packages/cadCAD/engine/simulation.py:120\u001b[0m, in \u001b[0;36mExecutor.partial_state_update\u001b[0;34m(self, sweep_dict, sub_step, sL, sH, state_funcs, policy_funcs, env_processes, time_step, run, additional_objs)\u001b[0m\n\u001b[1;32m    103\u001b[0m \u001b[38;5;28;01mdef\u001b[39;00m \u001b[38;5;21mpartial_state_update\u001b[39m(\n\u001b[1;32m    104\u001b[0m     \u001b[38;5;28mself\u001b[39m,\n\u001b[1;32m    105\u001b[0m     sweep_dict: Dict[\u001b[38;5;28mstr\u001b[39m, List[Any]],\n\u001b[0;32m   (...)\u001b[0m\n\u001b[1;32m    116\u001b[0m \n\u001b[1;32m    117\u001b[0m     \u001b[38;5;66;03m# last_in_obj: Dict[str, Any] = MappingProxyType(sL[-1])\u001b[39;00m\n\u001b[1;32m    118\u001b[0m     last_in_obj: Dict[\u001b[38;5;28mstr\u001b[39m, Any] \u001b[38;5;241m=\u001b[39m deepcopy(sL[\u001b[38;5;241m-\u001b[39m\u001b[38;5;241m1\u001b[39m])\n\u001b[1;32m    119\u001b[0m     _input: Dict[\u001b[38;5;28mstr\u001b[39m, Any] \u001b[38;5;241m=\u001b[39m \u001b[38;5;28mself\u001b[39m\u001b[38;5;241m.\u001b[39mpolicy_update_exception(\n\u001b[0;32m--> 120\u001b[0m         \u001b[38;5;28;43mself\u001b[39;49m\u001b[38;5;241;43m.\u001b[39;49m\u001b[43mget_policy_input\u001b[49m\u001b[43m(\u001b[49m\u001b[43msweep_dict\u001b[49m\u001b[43m,\u001b[49m\u001b[43m \u001b[49m\u001b[43msub_step\u001b[49m\u001b[43m,\u001b[49m\u001b[43m \u001b[49m\u001b[43msH\u001b[49m\u001b[43m,\u001b[49m\u001b[43m \u001b[49m\u001b[43mlast_in_obj\u001b[49m\u001b[43m,\u001b[49m\u001b[43m \u001b[49m\u001b[43mpolicy_funcs\u001b[49m\u001b[43m,\u001b[49m\u001b[43m \u001b[49m\u001b[43madditional_objs\u001b[49m\u001b[43m)\u001b[49m\n\u001b[1;32m    121\u001b[0m     )\n\u001b[1;32m    123\u001b[0m     \u001b[38;5;28;01mdef\u001b[39;00m \u001b[38;5;21mgenerate_record\u001b[39m(state_funcs):\n\u001b[1;32m    124\u001b[0m         \u001b[38;5;28;01mdef\u001b[39;00m \u001b[38;5;21mstate_scope_tuner\u001b[39m(f):\n",
      "File \u001b[0;32m~/opt/anaconda3/lib/python3.9/site-packages/cadCAD/engine/simulation.py:55\u001b[0m, in \u001b[0;36mExecutor.get_policy_input\u001b[0;34m(self, sweep_dict, sub_step, sL, s, funcs, additional_objs)\u001b[0m\n\u001b[1;32m     52\u001b[0m             result \u001b[38;5;241m=\u001b[39m g(result)\n\u001b[1;32m     53\u001b[0m     \u001b[38;5;28;01mreturn\u001b[39;00m result\n\u001b[0;32m---> 55\u001b[0m col_results \u001b[38;5;241m=\u001b[39m \u001b[43mget_col_results\u001b[49m\u001b[43m(\u001b[49m\u001b[43msweep_dict\u001b[49m\u001b[43m,\u001b[49m\u001b[43m \u001b[49m\u001b[43msub_step\u001b[49m\u001b[43m,\u001b[49m\u001b[43m \u001b[49m\u001b[43msL\u001b[49m\u001b[43m,\u001b[49m\u001b[43m \u001b[49m\u001b[43ms\u001b[49m\u001b[43m,\u001b[49m\u001b[43m \u001b[49m\u001b[43mfuncs\u001b[49m\u001b[43m)\u001b[49m\n\u001b[1;32m     56\u001b[0m key_set \u001b[38;5;241m=\u001b[39m \u001b[38;5;28mlist\u001b[39m(\u001b[38;5;28mset\u001b[39m(\u001b[38;5;28mlist\u001b[39m(reduce(\u001b[38;5;28;01mlambda\u001b[39;00m a, b: a \u001b[38;5;241m+\u001b[39m b, \u001b[38;5;28mlist\u001b[39m(\u001b[38;5;28mmap\u001b[39m(\u001b[38;5;28;01mlambda\u001b[39;00m x: \u001b[38;5;28mlist\u001b[39m(x\u001b[38;5;241m.\u001b[39mkeys()), col_results))))))\n\u001b[1;32m     57\u001b[0m new_dict \u001b[38;5;241m=\u001b[39m {k: [] \u001b[38;5;28;01mfor\u001b[39;00m k \u001b[38;5;129;01min\u001b[39;00m key_set}\n",
      "File \u001b[0;32m~/opt/anaconda3/lib/python3.9/site-packages/cadCAD/engine/simulation.py:42\u001b[0m, in \u001b[0;36mExecutor.get_policy_input.<locals>.get_col_results\u001b[0;34m(sweep_dict, sub_step, sL, s, funcs)\u001b[0m\n\u001b[1;32m     40\u001b[0m     \u001b[38;5;28;01melse\u001b[39;00m:\n\u001b[1;32m     41\u001b[0m         \u001b[38;5;28;01mreturn\u001b[39;00m f(sweep_dict, sub_step, sL, s, additional_objs)\n\u001b[0;32m---> 42\u001b[0m \u001b[38;5;28;01mreturn\u001b[39;00m \u001b[38;5;28;43mlist\u001b[39;49m\u001b[43m(\u001b[49m\u001b[38;5;28;43mmap\u001b[39;49m\u001b[43m(\u001b[49m\u001b[38;5;28;43;01mlambda\u001b[39;49;00m\u001b[43m \u001b[49m\u001b[43mf\u001b[49m\u001b[43m:\u001b[49m\u001b[43m \u001b[49m\u001b[43mpolicy_scope_tuner\u001b[49m\u001b[43m(\u001b[49m\u001b[43madditional_objs\u001b[49m\u001b[43m,\u001b[49m\u001b[43m \u001b[49m\u001b[43mf\u001b[49m\u001b[43m)\u001b[49m\u001b[43m,\u001b[49m\u001b[43m \u001b[49m\u001b[43mfuncs\u001b[49m\u001b[43m)\u001b[49m\u001b[43m)\u001b[49m\n",
      "File \u001b[0;32m~/opt/anaconda3/lib/python3.9/site-packages/cadCAD/engine/simulation.py:42\u001b[0m, in \u001b[0;36mExecutor.get_policy_input.<locals>.get_col_results.<locals>.<lambda>\u001b[0;34m(f)\u001b[0m\n\u001b[1;32m     40\u001b[0m     \u001b[38;5;28;01melse\u001b[39;00m:\n\u001b[1;32m     41\u001b[0m         \u001b[38;5;28;01mreturn\u001b[39;00m f(sweep_dict, sub_step, sL, s, additional_objs)\n\u001b[0;32m---> 42\u001b[0m \u001b[38;5;28;01mreturn\u001b[39;00m \u001b[38;5;28mlist\u001b[39m(\u001b[38;5;28mmap\u001b[39m(\u001b[38;5;28;01mlambda\u001b[39;00m f: \u001b[43mpolicy_scope_tuner\u001b[49m\u001b[43m(\u001b[49m\u001b[43madditional_objs\u001b[49m\u001b[43m,\u001b[49m\u001b[43m \u001b[49m\u001b[43mf\u001b[49m\u001b[43m)\u001b[49m, funcs))\n",
      "File \u001b[0;32m~/opt/anaconda3/lib/python3.9/site-packages/cadCAD/engine/simulation.py:39\u001b[0m, in \u001b[0;36mExecutor.get_policy_input.<locals>.get_col_results.<locals>.policy_scope_tuner\u001b[0;34m(additional_objs, f)\u001b[0m\n\u001b[1;32m     37\u001b[0m \u001b[38;5;28;01mdef\u001b[39;00m \u001b[38;5;21mpolicy_scope_tuner\u001b[39m(additional_objs, f):\n\u001b[1;32m     38\u001b[0m     \u001b[38;5;28;01mif\u001b[39;00m additional_objs \u001b[38;5;129;01mis\u001b[39;00m \u001b[38;5;28;01mNone\u001b[39;00m:\n\u001b[0;32m---> 39\u001b[0m         \u001b[38;5;28;01mreturn\u001b[39;00m \u001b[43mf\u001b[49m\u001b[43m(\u001b[49m\u001b[43msweep_dict\u001b[49m\u001b[43m,\u001b[49m\u001b[43m \u001b[49m\u001b[43msub_step\u001b[49m\u001b[43m,\u001b[49m\u001b[43m \u001b[49m\u001b[43msL\u001b[49m\u001b[43m,\u001b[49m\u001b[43m \u001b[49m\u001b[43ms\u001b[49m\u001b[43m)\u001b[49m\n\u001b[1;32m     40\u001b[0m     \u001b[38;5;28;01melse\u001b[39;00m:\n\u001b[1;32m     41\u001b[0m         \u001b[38;5;28;01mreturn\u001b[39;00m f(sweep_dict, sub_step, sL, s, additional_objs)\n",
      "Input \u001b[0;32mIn [5]\u001b[0m, in \u001b[0;36mp_staker\u001b[0;34m(params, substep, state_history, previous_state)\u001b[0m\n\u001b[1;32m     18\u001b[0m     deposits_change[i] \u001b[38;5;241m=\u001b[39m randint(\u001b[38;5;241m1\u001b[39m, \u001b[38;5;28mint\u001b[39m(balances[i]))\n\u001b[1;32m     19\u001b[0m     balances_change[i] \u001b[38;5;241m=\u001b[39m \u001b[38;5;241m-\u001b[39mdeposits_change[i]\n\u001b[0;32m---> 20\u001b[0m \u001b[38;5;28;01melif\u001b[39;00m(\u001b[43mrewardShare\u001b[49m\u001b[43m(\u001b[49m\u001b[43mdeposits\u001b[49m\u001b[43m[\u001b[49m\u001b[43mi\u001b[49m\u001b[43m]\u001b[49m\u001b[43m,\u001b[49m\u001b[43mTVL\u001b[49m\u001b[43m,\u001b[49m\u001b[43mRR\u001b[49m\u001b[43m)\u001b[49m \u001b[38;5;241m<\u001b[39m expectations[i]): \u001b[38;5;66;03m#claim and withdraw\u001b[39;00m\n\u001b[1;32m     21\u001b[0m     \u001b[38;5;66;03m#claim\u001b[39;00m\n\u001b[1;32m     22\u001b[0m     balances_change[i] \u001b[38;5;241m=\u001b[39m rewards[i]\n\u001b[1;32m     23\u001b[0m     rewards_change[i] \u001b[38;5;241m=\u001b[39m \u001b[38;5;241m-\u001b[39mrewards[i]\n",
      "Input \u001b[0;32mIn [4]\u001b[0m, in \u001b[0;36mrewardShare\u001b[0;34m(share, total, reward)\u001b[0m\n\u001b[1;32m      2\u001b[0m \u001b[38;5;28;01mif\u001b[39;00m total \u001b[38;5;241m==\u001b[39m \u001b[38;5;241m0.0\u001b[39m:\n\u001b[1;32m      3\u001b[0m     \u001b[38;5;28;01mreturn\u001b[39;00m \u001b[38;5;241m0.0\u001b[39m\n\u001b[0;32m----> 4\u001b[0m \u001b[38;5;28;01mreturn\u001b[39;00m \u001b[43mreward\u001b[49m\u001b[38;5;241;43m*\u001b[39;49m\u001b[43mshare\u001b[49m\u001b[38;5;241;43m/\u001b[39;49m\u001b[43mtotal\u001b[49m\n",
      "\u001b[0;31mTypeError\u001b[0m: unsupported operand type(s) for /: 'float' and 'list'"
     ]
    }
   ],
   "source": [
    "raw_result, tensor_field, sessions = simulation.execute()"
   ]
  },
  {
   "cell_type": "markdown",
   "id": "9298c1d0",
   "metadata": {},
   "source": [
    "# Output preparation"
   ]
  },
  {
   "cell_type": "code",
   "execution_count": null,
   "id": "faf6602a",
   "metadata": {},
   "outputs": [],
   "source": [
    "simulation_result = pd.DataFrame(raw_result)\n",
    "simulation_result.head(5)\n"
   ]
  },
  {
   "cell_type": "markdown",
   "id": "4ad556e3",
   "metadata": {},
   "source": [
    "# Analysis"
   ]
  },
  {
   "cell_type": "code",
   "execution_count": null,
   "id": "b8175855",
   "metadata": {},
   "outputs": [],
   "source": [
    "#clean substeps\n",
    "first_ind = (simulation_result.substep==0)&(simulation_result.timestep==0)\n",
    "last_ind = simulation_result.substep == max(simulation_result.substep)\n",
    "inds_to_drop = (first_ind | last_ind)\n",
    "df = simulation_result.loc[inds_to_drop].drop(columns=['substep'])\n",
    "\n",
    "df.head(5)"
   ]
  },
  {
   "cell_type": "code",
   "execution_count": null,
   "id": "dfbbbf1e",
   "metadata": {},
   "outputs": [],
   "source": [
    "px.line(df,\n",
    "           x='timestep',\n",
    "           y=['vault_balance'])"
   ]
  }
 ],
 "metadata": {
  "kernelspec": {
   "display_name": "Python 3 (ipykernel)",
   "language": "python",
   "name": "python3"
  },
  "language_info": {
   "codemirror_mode": {
    "name": "ipython",
    "version": 3
   },
   "file_extension": ".py",
   "mimetype": "text/x-python",
   "name": "python",
   "nbconvert_exporter": "python",
   "pygments_lexer": "ipython3",
   "version": "3.9.12"
  }
 },
 "nbformat": 4,
 "nbformat_minor": 5
}
